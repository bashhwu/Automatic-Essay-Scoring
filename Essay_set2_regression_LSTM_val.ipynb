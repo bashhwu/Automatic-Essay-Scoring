{
  "nbformat": 4,
  "nbformat_minor": 0,
  "metadata": {
    "accelerator": "GPU",
    "colab": {
      "name": "Essay_set 2 regression+LSTM+val.ipynb",
      "provenance": [],
      "collapsed_sections": [
        "MhSdTjBNBPR2"
      ],
      "machine_shape": "hm",
      "include_colab_link": true
    },
    "kernelspec": {
      "display_name": "Python 3",
      "language": "python",
      "name": "python3"
    },
    "language_info": {
      "codemirror_mode": {
        "name": "ipython",
        "version": 3
      },
      "file_extension": ".py",
      "mimetype": "text/x-python",
      "name": "python",
      "nbconvert_exporter": "python",
      "pygments_lexer": "ipython3",
      "version": "3.7.6"
    }
  },
  "cells": [
    {
      "cell_type": "markdown",
      "metadata": {
        "id": "view-in-github",
        "colab_type": "text"
      },
      "source": [
        "<a href=\"https://colab.research.google.com/github/bashhwu/Automatic-Essay-Scoring/blob/main/Essay_set_2_regression%2BLSTM%2Bval.ipynb\" target=\"_parent\"><img src=\"https://colab.research.google.com/assets/colab-badge.svg\" alt=\"Open In Colab\"/></a>"
      ]
    },
    {
      "cell_type": "code",
      "metadata": {
        "colab": {
          "base_uri": "https://localhost:8080/"
        },
        "id": "g-5CztEdfzCv",
        "outputId": "e31d726b-c1a3-4403-8b95-64d5f0008d01"
      },
      "source": [
        "clear all"
      ],
      "execution_count": 4,
      "outputs": [
        {
          "output_type": "stream",
          "name": "stdout",
          "text": [
            "\u001b[H\u001b[2J"
          ]
        }
      ]
    },
    {
      "cell_type": "code",
      "metadata": {
        "colab": {
          "base_uri": "https://localhost:8080/"
        },
        "id": "rux3Ve-fqtgy",
        "outputId": "c0b86a76-5e72-44d5-e441-8ce57eb226fa"
      },
      "source": [
        "from google.colab import drive\n",
        "drive.mount('/content/drive')"
      ],
      "execution_count": 5,
      "outputs": [
        {
          "output_type": "stream",
          "name": "stdout",
          "text": [
            "Mounted at /content/drive\n"
          ]
        }
      ]
    },
    {
      "cell_type": "code",
      "metadata": {
        "id": "ySyyB3Qqlw08"
      },
      "source": [
        ""
      ],
      "execution_count": null,
      "outputs": []
    },
    {
      "cell_type": "code",
      "metadata": {
        "id": "BjE7LEqTaeu2"
      },
      "source": [
        "embedding_size=100"
      ],
      "execution_count": 1,
      "outputs": []
    },
    {
      "cell_type": "code",
      "metadata": {
        "colab": {
          "base_uri": "https://localhost:8080/"
        },
        "id": "8QMKmwB_ll7s",
        "outputId": "cc05a9c8-d685-42a2-a646-655ec2bb739f"
      },
      "source": [
        "ls"
      ],
      "execution_count": 2,
      "outputs": [
        {
          "output_type": "stream",
          "name": "stdout",
          "text": [
            "\u001b[0m\u001b[01;34msample_data\u001b[0m/\n"
          ]
        }
      ]
    },
    {
      "cell_type": "code",
      "metadata": {
        "colab": {
          "background_save": true
        },
        "id": "cwwe4th75Nss"
      },
      "source": [
        ""
      ],
      "execution_count": null,
      "outputs": []
    },
    {
      "cell_type": "code",
      "metadata": {
        "id": "wsYt9b1zRspZ"
      },
      "source": [
        "mypath='/content/drive/MyDrive/AAAAA'"
      ],
      "execution_count": 6,
      "outputs": []
    },
    {
      "cell_type": "code",
      "metadata": {
        "colab": {
          "base_uri": "https://localhost:8080/"
        },
        "id": "yjBgp6iohY8f",
        "outputId": "e22f2f21-6aaa-413a-ba4c-0dedfe1dde53"
      },
      "source": [
        "import io\n",
        "import pandas as pd\n",
        "\n",
        "df = pd.read_csv(mypath+'/asap_training_data.tsv',sep='\\t', encoding='ISO-8859-1')  # both X and y\n",
        "\n",
        "df_test = pd.read_csv(mypath+'/asap_valid_set.tsv',sep='\\t', encoding='ISO-8859-1')  # only X_test\n",
        "test_score = pd.read_csv(mypath+'/asap_valid_scores.csv')  # only y_test\n",
        "\n",
        "\n",
        "df.shape"
      ],
      "execution_count": 10,
      "outputs": [
        {
          "output_type": "execute_result",
          "data": {
            "text/plain": [
              "(12976, 28)"
            ]
          },
          "metadata": {},
          "execution_count": 10
        }
      ]
    },
    {
      "cell_type": "code",
      "metadata": {
        "colab": {
          "base_uri": "https://localhost:8080/",
          "height": 417
        },
        "id": "cxd_M5n8sJqv",
        "outputId": "5212bfaf-02c0-4b63-ce01-1e8d78ce642d"
      },
      "source": [
        "df_test[df_test['essay_set']==2]"
      ],
      "execution_count": 11,
      "outputs": [
        {
          "output_type": "execute_result",
          "data": {
            "text/html": [
              "<div>\n",
              "<style scoped>\n",
              "    .dataframe tbody tr th:only-of-type {\n",
              "        vertical-align: middle;\n",
              "    }\n",
              "\n",
              "    .dataframe tbody tr th {\n",
              "        vertical-align: top;\n",
              "    }\n",
              "\n",
              "    .dataframe thead th {\n",
              "        text-align: right;\n",
              "    }\n",
              "</style>\n",
              "<table border=\"1\" class=\"dataframe\">\n",
              "  <thead>\n",
              "    <tr style=\"text-align: right;\">\n",
              "      <th></th>\n",
              "      <th>essay_id</th>\n",
              "      <th>essay_set</th>\n",
              "      <th>essay</th>\n",
              "      <th>domain1_predictionid</th>\n",
              "      <th>domain2_predictionid</th>\n",
              "    </tr>\n",
              "  </thead>\n",
              "  <tbody>\n",
              "    <tr>\n",
              "      <th>589</th>\n",
              "      <td>4778</td>\n",
              "      <td>2</td>\n",
              "      <td>Do u believe there are books, music, magizines...</td>\n",
              "      <td>6578</td>\n",
              "      <td>6579.0</td>\n",
              "    </tr>\n",
              "    <tr>\n",
              "      <th>590</th>\n",
              "      <td>4779</td>\n",
              "      <td>2</td>\n",
              "      <td>I strongly believe that there are some materia...</td>\n",
              "      <td>6580</td>\n",
              "      <td>6581.0</td>\n",
              "    </tr>\n",
              "    <tr>\n",
              "      <th>591</th>\n",
              "      <td>4780</td>\n",
              "      <td>2</td>\n",
              "      <td>Do you think that certain books, movies, magaz...</td>\n",
              "      <td>6582</td>\n",
              "      <td>6583.0</td>\n",
              "    </tr>\n",
              "    <tr>\n",
              "      <th>592</th>\n",
              "      <td>4781</td>\n",
              "      <td>2</td>\n",
              "      <td>Censorship in libraries should definetly be al...</td>\n",
              "      <td>6584</td>\n",
              "      <td>6585.0</td>\n",
              "    </tr>\n",
              "    <tr>\n",
              "      <th>593</th>\n",
              "      <td>4782</td>\n",
              "      <td>2</td>\n",
              "      <td>Many books are helpful as you @MONTH1 know by ...</td>\n",
              "      <td>6586</td>\n",
              "      <td>6587.0</td>\n",
              "    </tr>\n",
              "    <tr>\n",
              "      <th>...</th>\n",
              "      <td>...</td>\n",
              "      <td>...</td>\n",
              "      <td>...</td>\n",
              "      <td>...</td>\n",
              "      <td>...</td>\n",
              "    </tr>\n",
              "    <tr>\n",
              "      <th>1184</th>\n",
              "      <td>5373</td>\n",
              "      <td>2</td>\n",
              "      <td>It is my opinion that content in libraries sho...</td>\n",
              "      <td>7768</td>\n",
              "      <td>7769.0</td>\n",
              "    </tr>\n",
              "    <tr>\n",
              "      <th>1185</th>\n",
              "      <td>5374</td>\n",
              "      <td>2</td>\n",
              "      <td>Libraries have been open to the public for yea...</td>\n",
              "      <td>7770</td>\n",
              "      <td>7771.0</td>\n",
              "    </tr>\n",
              "    <tr>\n",
              "      <th>1186</th>\n",
              "      <td>5375</td>\n",
              "      <td>2</td>\n",
              "      <td>A library is a place of information and wisdom...</td>\n",
              "      <td>7772</td>\n",
              "      <td>7773.0</td>\n",
              "    </tr>\n",
              "    <tr>\n",
              "      <th>1187</th>\n",
              "      <td>5376</td>\n",
              "      <td>2</td>\n",
              "      <td>I believe that certain materials, such as book...</td>\n",
              "      <td>7774</td>\n",
              "      <td>7775.0</td>\n",
              "    </tr>\n",
              "    <tr>\n",
              "      <th>1188</th>\n",
              "      <td>5377</td>\n",
              "      <td>2</td>\n",
              "      <td>There should not be censorship in libraries be...</td>\n",
              "      <td>7776</td>\n",
              "      <td>7777.0</td>\n",
              "    </tr>\n",
              "  </tbody>\n",
              "</table>\n",
              "<p>600 rows × 5 columns</p>\n",
              "</div>"
            ],
            "text/plain": [
              "      essay_id  essay_set  ... domain1_predictionid  domain2_predictionid\n",
              "589       4778          2  ...                 6578                6579.0\n",
              "590       4779          2  ...                 6580                6581.0\n",
              "591       4780          2  ...                 6582                6583.0\n",
              "592       4781          2  ...                 6584                6585.0\n",
              "593       4782          2  ...                 6586                6587.0\n",
              "...        ...        ...  ...                  ...                   ...\n",
              "1184      5373          2  ...                 7768                7769.0\n",
              "1185      5374          2  ...                 7770                7771.0\n",
              "1186      5375          2  ...                 7772                7773.0\n",
              "1187      5376          2  ...                 7774                7775.0\n",
              "1188      5377          2  ...                 7776                7777.0\n",
              "\n",
              "[600 rows x 5 columns]"
            ]
          },
          "metadata": {},
          "execution_count": 11
        }
      ]
    },
    {
      "cell_type": "code",
      "metadata": {
        "id": "X8Tnr3huMBnX"
      },
      "source": [
        "X_test=df_test[df_test['essay_set']==2]['essay']"
      ],
      "execution_count": 12,
      "outputs": []
    },
    {
      "cell_type": "code",
      "metadata": {
        "colab": {
          "base_uri": "https://localhost:8080/"
        },
        "id": "KXJ7RsYpYQq0",
        "outputId": "6647913f-04f7-4525-8f3e-22f923f5d7cb"
      },
      "source": [
        "X_test.shape"
      ],
      "execution_count": 13,
      "outputs": [
        {
          "output_type": "execute_result",
          "data": {
            "text/plain": [
              "(600,)"
            ]
          },
          "metadata": {},
          "execution_count": 13
        }
      ]
    },
    {
      "cell_type": "code",
      "metadata": {
        "colab": {
          "base_uri": "https://localhost:8080/"
        },
        "id": "nr2I4GZptVbC",
        "outputId": "221f4053-3c40-4189-ebee-4755b01f595e"
      },
      "source": [
        "y_test=test_score[test_score['essay_set']==2][test_score['prediction_id']%2==0]['predicted_score']"
      ],
      "execution_count": 14,
      "outputs": [
        {
          "output_type": "stream",
          "name": "stderr",
          "text": [
            "/usr/local/lib/python3.7/dist-packages/ipykernel_launcher.py:1: UserWarning: Boolean Series key will be reindexed to match DataFrame index.\n",
            "  \"\"\"Entry point for launching an IPython kernel.\n"
          ]
        }
      ]
    },
    {
      "cell_type": "code",
      "metadata": {
        "colab": {
          "base_uri": "https://localhost:8080/",
          "height": 142
        },
        "id": "_UI392x0s4pv",
        "outputId": "fb645c4c-820d-4f51-a88f-49e1e34d4924"
      },
      "source": [
        "test_score[test_score['essay_set']==2].head(3)"
      ],
      "execution_count": 15,
      "outputs": [
        {
          "output_type": "execute_result",
          "data": {
            "text/html": [
              "<div>\n",
              "<style scoped>\n",
              "    .dataframe tbody tr th:only-of-type {\n",
              "        vertical-align: middle;\n",
              "    }\n",
              "\n",
              "    .dataframe tbody tr th {\n",
              "        vertical-align: top;\n",
              "    }\n",
              "\n",
              "    .dataframe thead th {\n",
              "        text-align: right;\n",
              "    }\n",
              "</style>\n",
              "<table border=\"1\" class=\"dataframe\">\n",
              "  <thead>\n",
              "    <tr style=\"text-align: right;\">\n",
              "      <th></th>\n",
              "      <th>prediction_id</th>\n",
              "      <th>essay_id</th>\n",
              "      <th>essay_set</th>\n",
              "      <th>essay_weight</th>\n",
              "      <th>predicted_score</th>\n",
              "    </tr>\n",
              "  </thead>\n",
              "  <tbody>\n",
              "    <tr>\n",
              "      <th>589</th>\n",
              "      <td>6578</td>\n",
              "      <td>4778</td>\n",
              "      <td>2</td>\n",
              "      <td>0.5</td>\n",
              "      <td>4</td>\n",
              "    </tr>\n",
              "    <tr>\n",
              "      <th>590</th>\n",
              "      <td>6579</td>\n",
              "      <td>4778</td>\n",
              "      <td>2</td>\n",
              "      <td>0.5</td>\n",
              "      <td>3</td>\n",
              "    </tr>\n",
              "    <tr>\n",
              "      <th>591</th>\n",
              "      <td>6580</td>\n",
              "      <td>4779</td>\n",
              "      <td>2</td>\n",
              "      <td>0.5</td>\n",
              "      <td>4</td>\n",
              "    </tr>\n",
              "  </tbody>\n",
              "</table>\n",
              "</div>"
            ],
            "text/plain": [
              "     prediction_id  essay_id  essay_set  essay_weight  predicted_score\n",
              "589           6578      4778          2           0.5                4\n",
              "590           6579      4778          2           0.5                3\n",
              "591           6580      4779          2           0.5                4"
            ]
          },
          "metadata": {},
          "execution_count": 15
        }
      ]
    },
    {
      "cell_type": "code",
      "metadata": {
        "colab": {
          "background_save": true
        },
        "id": "IGJGr3LA2_Iz"
      },
      "source": [
        ""
      ],
      "execution_count": null,
      "outputs": []
    },
    {
      "cell_type": "code",
      "metadata": {
        "colab": {
          "base_uri": "https://localhost:8080/",
          "height": 282
        },
        "id": "75v6IseTZD5P",
        "outputId": "6e31b140-3e1c-40ee-9a38-deea546f2fd6"
      },
      "source": [
        "y_test.hist()"
      ],
      "execution_count": 16,
      "outputs": [
        {
          "output_type": "execute_result",
          "data": {
            "text/plain": [
              "<matplotlib.axes._subplots.AxesSubplot at 0x7f693badb750>"
            ]
          },
          "metadata": {},
          "execution_count": 16
        },
        {
          "output_type": "display_data",
          "data": {
            "image/png": "[encoded data removed]",
            "text/plain": [
              "<Figure size 432x288 with 1 Axes>"
            ]
          },
          "metadata": {
            "needs_background": "light"
          }
        }
      ]
    },
    {
      "cell_type": "markdown",
      "metadata": {
        "id": "JTm2mwFpPIhT"
      },
      "source": [
        ""
      ]
    },
    {
      "cell_type": "code",
      "metadata": {
        "id": "5aEem3A8fzC3"
      },
      "source": [
        "X = df.dropna(axis=1) \n",
        "X =X[X['essay_set']==2]\n",
        "X = X.drop(columns=['essay_id','essay_set','rater1_domain1', 'rater2_domain1'])\n",
        "\n",
        "y = X['domain1_score'] # Only domain1_score is considered\n",
        "X=X['essay']"
      ],
      "execution_count": 17,
      "outputs": []
    },
    {
      "cell_type": "code",
      "metadata": {
        "colab": {
          "base_uri": "https://localhost:8080/"
        },
        "id": "xGx88_MI6385",
        "outputId": "b04231b7-5633-40a2-d841-f715dae06f02"
      },
      "source": [
        "X.shape"
      ],
      "execution_count": 18,
      "outputs": [
        {
          "output_type": "execute_result",
          "data": {
            "text/plain": [
              "(1800,)"
            ]
          },
          "metadata": {},
          "execution_count": 18
        }
      ]
    },
    {
      "cell_type": "code",
      "metadata": {
        "colab": {
          "base_uri": "https://localhost:8080/",
          "height": 349
        },
        "id": "5a7emAsD5iGg",
        "outputId": "f17e7b56-2f53-45cc-f7bb-05dea13db677"
      },
      "source": [
        "import numpy as np\n",
        "import matplotlib.pyplot as plt\n",
        "mu, sigma = 0, 0.1 # mean and standard deviation\n",
        "sig = np.random.normal(mu, sigma, 1000)\n",
        "plt.hist(sig)"
      ],
      "execution_count": 19,
      "outputs": [
        {
          "output_type": "execute_result",
          "data": {
            "text/plain": [
              "(array([  1.,  14.,  54., 144., 241., 262., 172.,  85.,  19.,   8.]),\n",
              " array([-0.35126234, -0.2838221 , -0.21638185, -0.14894161, -0.08150136,\n",
              "        -0.01406112,  0.05337913,  0.12081937,  0.18825962,  0.25569986,\n",
              "         0.32314011]),\n",
              " <a list of 10 Patch objects>)"
            ]
          },
          "metadata": {},
          "execution_count": 19
        },
        {
          "output_type": "display_data",
          "data": {
            "image/png": "[encoded data removed]",
            "text/plain": [
              "<Figure size 432x288 with 1 Axes>"
            ]
          },
          "metadata": {
            "needs_background": "light"
          }
        }
      ]
    },
    {
      "cell_type": "code",
      "metadata": {
        "colab": {
          "background_save": true,
          "base_uri": "https://localhost:8080/"
        },
        "id": "fN08txjuJTNM",
        "outputId": "4b7f9c79-632c-4411-8f40-960a7287ead1"
      },
      "source": [
        "X.shape, y.shape"
      ],
      "execution_count": null,
      "outputs": [
        {
          "output_type": "execute_result",
          "data": {
            "text/plain": [
              "((1800,), (1800,))"
            ]
          },
          "metadata": {
            "tags": []
          },
          "execution_count": 0
        }
      ]
    },
    {
      "cell_type": "code",
      "metadata": {
        "colab": {
          "base_uri": "https://localhost:8080/"
        },
        "id": "8M5mziL8fzC4",
        "outputId": "87623c53-a464-44c7-8b92-788df37e4ffb"
      },
      "source": [
        "X.head()"
      ],
      "execution_count": 26,
      "outputs": [
        {
          "output_type": "execute_result",
          "data": {
            "text/plain": [
              "1783    Certain materials being removed from libraries...\n",
              "1784    Write a persuasive essay to a newspaper reflec...\n",
              "1785    Do you think that libraries should remove cert...\n",
              "1786    In @DATE1's world, there are many things found...\n",
              "1787    In life you have the 'offensive things'. The l...\n",
              "Name: essay, dtype: object"
            ]
          },
          "metadata": {},
          "execution_count": 26
        }
      ]
    },
    {
      "cell_type": "code",
      "metadata": {
        "id": "KeE1MQmsfzC6"
      },
      "source": [
        "X_total=pd.concat([X, X_test], sort=False)"
      ],
      "execution_count": 27,
      "outputs": []
    },
    {
      "cell_type": "code",
      "metadata": {
        "colab": {
          "base_uri": "https://localhost:8080/"
        },
        "id": "Xe7HLWu96iwY",
        "outputId": "742550b3-7a5e-45ad-f6ce-3cd8890464c8"
      },
      "source": [
        "y"
      ],
      "execution_count": 28,
      "outputs": [
        {
          "output_type": "execute_result",
          "data": {
            "text/plain": [
              "1783    4\n",
              "1784    1\n",
              "1785    2\n",
              "1786    4\n",
              "1787    4\n",
              "       ..\n",
              "3578    3\n",
              "3579    3\n",
              "3580    2\n",
              "3581    3\n",
              "3582    3\n",
              "Name: domain1_score, Length: 1800, dtype: int64"
            ]
          },
          "metadata": {},
          "execution_count": 28
        }
      ]
    },
    {
      "cell_type": "code",
      "metadata": {
        "id": "2QGEpPM36DLK"
      },
      "source": [
        "# Add noise to the scores\n",
        "y=y+np.random.normal(0.0, 0.1, y.shape)\n",
        "y_test=y_test+np.random.normal(0.0, 0.1, y_test.shape)"
      ],
      "execution_count": 29,
      "outputs": []
    },
    {
      "cell_type": "code",
      "metadata": {
        "colab": {
          "base_uri": "https://localhost:8080/"
        },
        "id": "Xe7EysqP6cnV",
        "outputId": "2ea0a4f8-efb8-401b-df6b-122f4615f183"
      },
      "source": [
        "y"
      ],
      "execution_count": 30,
      "outputs": [
        {
          "output_type": "execute_result",
          "data": {
            "text/plain": [
              "1783    3.672644\n",
              "1784    1.005438\n",
              "1785    2.164895\n",
              "1786    4.113927\n",
              "1787    3.951564\n",
              "          ...   \n",
              "3578    2.882253\n",
              "3579    2.944582\n",
              "3580    1.899342\n",
              "3581    2.986966\n",
              "3582    3.093041\n",
              "Name: domain1_score, Length: 1800, dtype: float64"
            ]
          },
          "metadata": {},
          "execution_count": 30
        }
      ]
    },
    {
      "cell_type": "code",
      "metadata": {
        "colab": {
          "base_uri": "https://localhost:8080/",
          "height": 282
        },
        "id": "IkkKZwhZ6wKt",
        "outputId": "4e4a4c44-1da0-4d81-d3ab-5581cd462f33"
      },
      "source": [
        "y.hist()"
      ],
      "execution_count": 31,
      "outputs": [
        {
          "output_type": "execute_result",
          "data": {
            "text/plain": [
              "<matplotlib.axes._subplots.AxesSubplot at 0x7f68da549cd0>"
            ]
          },
          "metadata": {},
          "execution_count": 31
        },
        {
          "output_type": "display_data",
          "data": {
            "image/png": "[encoded data removed]",
            "text/plain": [
              "<Figure size 432x288 with 1 Axes>"
            ]
          },
          "metadata": {
            "needs_background": "light"
          }
        }
      ]
    },
    {
      "cell_type": "code",
      "metadata": {
        "colab": {
          "base_uri": "https://localhost:8080/"
        },
        "id": "2Shd8oCodUg4",
        "outputId": "06534009-b1f7-43be-feb9-4a28cdcd891e"
      },
      "source": [
        "X_total.shape, X.shape, X_test.shape"
      ],
      "execution_count": 32,
      "outputs": [
        {
          "output_type": "execute_result",
          "data": {
            "text/plain": [
              "((2400,), (1800,), (600,))"
            ]
          },
          "metadata": {},
          "execution_count": 32
        }
      ]
    },
    {
      "cell_type": "markdown",
      "metadata": {
        "id": "NPfVc8OKfzC7"
      },
      "source": [
        "### Load the Glove embedding vectors"
      ]
    },
    {
      "cell_type": "code",
      "metadata": {
        "colab": {
          "base_uri": "https://localhost:8080/"
        },
        "id": "hgZWq_l-fzC7",
        "outputId": "1de04383-c772-4383-debb-3f317dfc7c33"
      },
      "source": [
        "import numpy as np\n",
        "\n",
        "# load the whole embedding into memory\n",
        "embeddings_index = dict()\n",
        "f = open(mypath+'/glove.6B.'+str(embedding_size)+'d.txt')\n",
        "for line in f:\n",
        "    values = line.split()\n",
        "    word = values[0]\n",
        "    coefs = np.asarray(values[1:], dtype='float32')\n",
        "    embeddings_index[word] = coefs\n",
        "f.close()\n",
        "print('Loaded %s word vectors.' % len(embeddings_index))"
      ],
      "execution_count": 33,
      "outputs": [
        {
          "output_type": "stream",
          "name": "stdout",
          "text": [
            "Loaded 400000 word vectors.\n"
          ]
        }
      ]
    },
    {
      "cell_type": "code",
      "metadata": {
        "colab": {
          "base_uri": "https://localhost:8080/",
          "height": 35
        },
        "id": "YzuEtwkXaq_k",
        "outputId": "3c3e91ca-d947-46dc-bae9-f9c6f668a03f"
      },
      "source": [
        "mypath+'/glove.6B.'+str(embedding_size)+'d.txt'"
      ],
      "execution_count": 21,
      "outputs": [
        {
          "output_type": "execute_result",
          "data": {
            "application/vnd.google.colaboratory.intrinsic+json": {
              "type": "string"
            },
            "text/plain": [
              "'/content/drive/MyDrive/AAAAA/glove.6B.100d.txt'"
            ]
          },
          "metadata": {},
          "execution_count": 21
        }
      ]
    },
    {
      "cell_type": "code",
      "metadata": {
        "colab": {
          "base_uri": "https://localhost:8080/"
        },
        "id": "8Nm4f4OnfzC8",
        "outputId": "b5c96f01-fd6d-438f-d981-50e2ce7a1478"
      },
      "source": [
        "# embeddings_index is a dictionary with keys representing words\n",
        "# and values representing embedding vectors\n",
        "embeddings_index['the'].shape, len(embeddings_index)"
      ],
      "execution_count": 22,
      "outputs": [
        {
          "output_type": "execute_result",
          "data": {
            "text/plain": [
              "((100,), 400000)"
            ]
          },
          "metadata": {},
          "execution_count": 22
        }
      ]
    },
    {
      "cell_type": "code",
      "metadata": {
        "colab": {
          "base_uri": "https://localhost:8080/"
        },
        "id": "PXMF56SqfzC9",
        "outputId": "73d84ebc-4520-4c42-d8aa-6eba2b181a72"
      },
      "source": [
        "from tensorflow.keras.preprocessing.text import Tokenizer  # instead of one-hot\n",
        "from tensorflow.keras.preprocessing.sequence import pad_sequences\n",
        "import numpy as np\n",
        "import nltk\n",
        "nltk.download('stopwords')\n",
        "  \n",
        "from nltk.corpus import stopwords\n",
        "\n",
        "def to_sequence(X, remove_stopwords=False): \n",
        "    # X is a dataframe\n",
        "    stops = set(stopwords.words(\"english\"))\n",
        "\n",
        "    t =Tokenizer(num_words=None,filters='!\"#$%&()*+,-./:;<=>?@[\\\\]^_`{|}~\\t\\n',\n",
        "    lower=True, split=' ', char_level=False, oov_token=None, document_count=0)\n",
        "    docs=[]\n",
        "    for i in range(X.shape[0]):\n",
        "      ess=X.iloc[i]\n",
        "\n",
        "      if remove_stopwords:\n",
        "         ess=[word for word in ess.split() if word not in stops ]\n",
        "      else:\n",
        "        ess=ess\n",
        "\n",
        "      docs.append(ess)  # list of essays (end of for loop)\n",
        "          \n",
        "    t.fit_on_texts(docs)  # The entire data\n",
        "    vocab_size = len(t.word_index) + 1  # calculated based on the whole dataset\n",
        "\n",
        "    # integer encode the documents\n",
        "    encoded_docs = t.texts_to_sequences(docs)  # word to index\n",
        "    l=[]\n",
        "\n",
        "    max_length=max([len(d) for d in encoded_docs ])\n",
        "\n",
        "    # pad documents to a max length of max_length words\n",
        "    padded_docs = pad_sequences(encoded_docs, maxlen=max_length, padding='pre')\n",
        "\n",
        "    return t, padded_docs, max_length, vocab_size"
      ],
      "execution_count": 23,
      "outputs": [
        {
          "output_type": "stream",
          "name": "stdout",
          "text": [
            "[nltk_data] Downloading package stopwords to /root/nltk_data...\n",
            "[nltk_data]   Unzipping corpora/stopwords.zip.\n"
          ]
        }
      ]
    },
    {
      "cell_type": "code",
      "metadata": {
        "id": "Uv-84JintzWy"
      },
      "source": [
        "t, padded_docs, max_length, vocab_size, =to_sequence(X_total, remove_stopwords=False)"
      ],
      "execution_count": 34,
      "outputs": []
    },
    {
      "cell_type": "code",
      "metadata": {
        "colab": {
          "base_uri": "https://localhost:8080/"
        },
        "id": "OhIE_06TfzC9",
        "outputId": "2c1309dc-474f-4d85-c502-0fcdeb72e140"
      },
      "source": [
        "padded_docs.shape, vocab_size, y.shape, max_length"
      ],
      "execution_count": 35,
      "outputs": [
        {
          "output_type": "execute_result",
          "data": {
            "text/plain": [
              "((2400, 1065), 17024, (1800,), 1065)"
            ]
          },
          "metadata": {},
          "execution_count": 35
        }
      ]
    },
    {
      "cell_type": "code",
      "metadata": {
        "id": "dbsWhh1UeU-X"
      },
      "source": [
        "padded_docs_train=padded_docs[:X.shape[0]]\n",
        "padded_docs_test=padded_docs[X.shape[0]:]"
      ],
      "execution_count": 36,
      "outputs": []
    },
    {
      "cell_type": "code",
      "metadata": {
        "colab": {
          "base_uri": "https://localhost:8080/"
        },
        "id": "iBKkVu-WfY_6",
        "outputId": "78c89899-86ac-450b-bfb1-ffdbfce45780"
      },
      "source": [
        "padded_docs_train.shape, X.shape, padded_docs_test.shape, X_test.shape, y.shape, y_test.shape\n"
      ],
      "execution_count": 37,
      "outputs": [
        {
          "output_type": "execute_result",
          "data": {
            "text/plain": [
              "((1800, 1065), (1800,), (600, 1065), (600,), (1800,), (600,))"
            ]
          },
          "metadata": {},
          "execution_count": 37
        }
      ]
    },
    {
      "cell_type": "markdown",
      "metadata": {
        "id": "Q_SuqE5yfzC-"
      },
      "source": [
        "#### Seed the embedding matrix with vectors from a pretrained model"
      ]
    },
    {
      "cell_type": "code",
      "metadata": {
        "id": "Qn_fgCTAfzC-"
      },
      "source": [
        "# Create a weight matrix for words in training docs\n",
        "embedding_matrix = np.zeros((vocab_size, embedding_size))\n",
        "  \n",
        "for word, i in t.word_index.items():  # i is index \n",
        "    embedding_vector = embeddings_index.get(word)\n",
        "    if embedding_vector is not None:\n",
        "        embedding_matrix[i] = embedding_vector\n"
      ],
      "execution_count": 38,
      "outputs": []
    },
    {
      "cell_type": "code",
      "metadata": {
        "colab": {
          "base_uri": "https://localhost:8080/"
        },
        "id": "0OgFWNhifzC-",
        "outputId": "2835d40e-4005-4722-ea05-eece34360144"
      },
      "source": [
        "embedding_matrix  # Embedding matrix before training"
      ],
      "execution_count": 39,
      "outputs": [
        {
          "output_type": "execute_result",
          "data": {
            "text/plain": [
              "array([[ 0.        ,  0.        ,  0.        , ...,  0.        ,\n",
              "         0.        ,  0.        ],\n",
              "       [-0.038194  , -0.24487001,  0.72812003, ..., -0.1459    ,\n",
              "         0.82779998,  0.27061999],\n",
              "       [-0.18970001,  0.050024  ,  0.19084001, ..., -0.39804   ,\n",
              "         0.47646999, -0.15983   ],\n",
              "       ...,\n",
              "       [ 0.        ,  0.        ,  0.        , ...,  0.        ,\n",
              "         0.        ,  0.        ],\n",
              "       [ 0.        ,  0.        ,  0.        , ...,  0.        ,\n",
              "         0.        ,  0.        ],\n",
              "       [-0.16492   ,  0.17597   ,  0.58032   , ..., -0.30249   ,\n",
              "        -0.32510999,  0.026373  ]])"
            ]
          },
          "metadata": {},
          "execution_count": 39
        }
      ]
    },
    {
      "cell_type": "code",
      "metadata": {
        "colab": {
          "background_save": true,
          "base_uri": "https://localhost:8080/"
        },
        "id": "0VZaJCjHfzC_",
        "outputId": "5be8fa09-c69d-4b98-86c4-9accb1416d89"
      },
      "source": [
        "y.unique()"
      ],
      "execution_count": null,
      "outputs": [
        {
          "output_type": "execute_result",
          "data": {
            "text/plain": [
              "array([4.073551  , 1.09684423, 2.07198367, ..., 1.96920202, 2.94040162,\n",
              "       3.09552482])"
            ]
          },
          "metadata": {
            "tags": []
          },
          "execution_count": 0
        }
      ]
    },
    {
      "cell_type": "code",
      "metadata": {
        "colab": {
          "base_uri": "https://localhost:8080/"
        },
        "id": "T1uixv4mfzC_",
        "outputId": "d4499ffe-0530-416e-e358-ddc10303322c"
      },
      "source": [
        "output_neurons=len(y.unique())\n",
        "output_neurons"
      ],
      "execution_count": 40,
      "outputs": [
        {
          "output_type": "execute_result",
          "data": {
            "text/plain": [
              "1800"
            ]
          },
          "metadata": {},
          "execution_count": 40
        }
      ]
    },
    {
      "cell_type": "code",
      "metadata": {
        "id": "YtQBE4JZfzC_"
      },
      "source": [
        "# define model\n",
        "from tensorflow.keras.models import Sequential\n",
        "from tensorflow.keras.layers import Dense, Dropout, Flatten, Embedding, Bidirectional, LSTM, GlobalMaxPooling1D\n",
        "from tensorflow import keras\n",
        "from keras.callbacks import *                                         \n",
        "from keras import regularizers \n",
        "from tensorflow.keras.layers import GlobalAveragePooling1D\n",
        "\n",
        "def get_model():\n",
        "    model = Sequential()\n",
        "    e = Embedding(vocab_size, embedding_size, weights=[embedding_matrix], input_length=max_length, trainable=True)\n",
        "    model.add(e)\n",
        "    #model.add(Flatten()) \n",
        "\n",
        "    #model.add(Bidirectional(LSTM(256, dropout=0.2)))\n",
        "    model.add(Bidirectional(LSTM(256,return_sequences=True, dropout=0.2)))\n",
        "\n",
        "    #Global Maxpooling\n",
        "    model.add(GlobalAveragePooling1D())\n",
        "\n",
        "\n",
        "    model.add(Dense(100, activation='relu')) # 100 50 25\n",
        "    model.add(Dropout(0.2))\n",
        "\n",
        "    model.add(Dense(10, activation='relu'))\n",
        "\n",
        "\n",
        "    model.add(Dense(1))\n",
        "    \n",
        "    # compile the model\n",
        "    opt = keras.optimizers.Adam()\n",
        "    model.compile(loss='mean_squared_error', optimizer=opt, metrics=['mae'])\n",
        "\n",
        "\n",
        "\n",
        "    #Adding callbacks\n",
        "    #es = EarlyStopping(monitor='val_loss', mode='min', verbose=1, patience=10)  \n",
        "    #mc=ModelCheckpoint(mypath+'/regression+dense+best_model.h5', monitor='val_loss', mode='min', save_best_only=True,verbose=1)  \n",
        "\n",
        "    # summarize the model\n",
        "    print(model.summary())\n",
        "    return model\n"
      ],
      "execution_count": 41,
      "outputs": []
    },
    {
      "cell_type": "code",
      "metadata": {
        "id": "BOnEDd0RfzDA"
      },
      "source": [
        "from sklearn.metrics import cohen_kappa_score\n",
        "from sklearn.model_selection import KFold\n",
        "\n",
        "cv = KFold(n_splits=3, shuffle=True)"
      ],
      "execution_count": 42,
      "outputs": []
    },
    {
      "cell_type": "code",
      "metadata": {
        "colab": {
          "base_uri": "https://localhost:8080/"
        },
        "id": "G7brSW1TfzDA",
        "outputId": "e7083783-30c9-477f-a3c7-184e97fbbc10"
      },
      "source": [
        "from keras.models import load_model\n",
        "\n",
        "kappa=[]\n",
        "count=1\n",
        "for train_index, test_index in cv.split(padded_docs_train):\n",
        "    print(\"\\n--------Fold {}--------\\n\".format(count))\n",
        "    X_val, X_train, y_val, y_train = padded_docs_train[test_index], padded_docs_train[train_index], y.iloc[test_index], y.iloc[train_index]\n",
        "    model=get_model()\n",
        "    print(X_train.shape, y_train.shape,X_val.shape, y_val.shape)\n",
        "    #model.fit(X_train, y_train, batch_size=64, epochs=100)\n",
        "    \n",
        "    #Adding callbacks\n",
        "    es = EarlyStopping(monitor='val_loss', mode='min', verbose=1, patience=5)  \n",
        "    mc=ModelCheckpoint(mypath+'/regression+dense+best_model'+str(count)+'.h5', monitor='val_loss', mode='min', save_best_only=True,verbose=1)  \n",
        "\n",
        "    history = model.fit(X_train, y_train, batch_size=64, epochs=100,validation_data=(X_val,y_val.values),verbose=1,callbacks=[es,mc])\n",
        "    #loading best model\n",
        "    model= load_model(mypath+'/regression+dense+best_model'+str(count)+'.h5')\n",
        "    \n",
        "    \n",
        "    y_pred = model.predict(X_val)\n",
        "    # Round y_pred to the nearest integer.\n",
        "    y_pred = np.around(y_pred)\n",
        "    result = cohen_kappa_score(y_val.values.round(),y_pred,weights='quadratic')\n",
        "    print(\"Kappa Score: {}\".format(result))\n",
        "    kappa.append(result)\n",
        "    count+=1\n"
      ],
      "execution_count": 43,
      "outputs": [
        {
          "output_type": "stream",
          "name": "stdout",
          "text": [
            "\n",
            "--------Fold 1--------\n",
            "\n",
            "Model: \"sequential\"\n",
            "_________________________________________________________________\n",
            "Layer (type)                 Output Shape              Param #   \n",
            "=================================================================\n",
            "embedding (Embedding)        (None, 1065, 100)         1702400   \n",
            "_________________________________________________________________\n",
            "bidirectional (Bidirectional (None, 1065, 512)         731136    \n",
            "_________________________________________________________________\n",
            "global_average_pooling1d (Gl (None, 512)               0         \n",
            "_________________________________________________________________\n",
            "dense (Dense)                (None, 100)               51300     \n",
            "_________________________________________________________________\n",
            "dropout (Dropout)            (None, 100)               0         \n",
            "_________________________________________________________________\n",
            "dense_1 (Dense)              (None, 10)                1010      \n",
            "_________________________________________________________________\n",
            "dense_2 (Dense)              (None, 1)                 11        \n",
            "=================================================================\n",
            "Total params: 2,485,857\n",
            "Trainable params: 2,485,857\n",
            "Non-trainable params: 0\n",
            "_________________________________________________________________\n",
            "None\n",
            "(1200, 1065) (1200,) (600, 1065) (600,)\n",
            "Epoch 1/100\n",
            "19/19 [==============================] - 22s 690ms/step - loss: 3.1565 - mae: 1.3839 - val_loss: 0.7716 - val_mae: 0.6978\n",
            "\n",
            "Epoch 00001: val_loss improved from inf to 0.77163, saving model to /content/drive/MyDrive/AAAAA/regression+dense+best_model1.h5\n",
            "Epoch 2/100\n",
            "19/19 [==============================] - 12s 638ms/step - loss: 0.7887 - mae: 0.6829 - val_loss: 0.4327 - val_mae: 0.5224\n",
            "\n",
            "Epoch 00002: val_loss improved from 0.77163 to 0.43269, saving model to /content/drive/MyDrive/AAAAA/regression+dense+best_model1.h5\n",
            "Epoch 3/100\n",
            "19/19 [==============================] - 12s 639ms/step - loss: 0.5525 - mae: 0.5879 - val_loss: 0.3349 - val_mae: 0.4542\n",
            "\n",
            "Epoch 00003: val_loss improved from 0.43269 to 0.33486, saving model to /content/drive/MyDrive/AAAAA/regression+dense+best_model1.h5\n",
            "Epoch 4/100\n",
            "19/19 [==============================] - 12s 639ms/step - loss: 0.4861 - mae: 0.5466 - val_loss: 0.3226 - val_mae: 0.4440\n",
            "\n",
            "Epoch 00004: val_loss improved from 0.33486 to 0.32263, saving model to /content/drive/MyDrive/AAAAA/regression+dense+best_model1.h5\n",
            "Epoch 5/100\n",
            "19/19 [==============================] - 12s 638ms/step - loss: 0.4556 - mae: 0.5314 - val_loss: 0.3154 - val_mae: 0.4390\n",
            "\n",
            "Epoch 00005: val_loss improved from 0.32263 to 0.31542, saving model to /content/drive/MyDrive/AAAAA/regression+dense+best_model1.h5\n",
            "Epoch 6/100\n",
            "19/19 [==============================] - 12s 638ms/step - loss: 0.4585 - mae: 0.5386 - val_loss: 0.3125 - val_mae: 0.4382\n",
            "\n",
            "Epoch 00006: val_loss improved from 0.31542 to 0.31246, saving model to /content/drive/MyDrive/AAAAA/regression+dense+best_model1.h5\n",
            "Epoch 7/100\n",
            "19/19 [==============================] - 12s 636ms/step - loss: 0.4240 - mae: 0.5121 - val_loss: 0.2987 - val_mae: 0.4301\n",
            "\n",
            "Epoch 00007: val_loss improved from 0.31246 to 0.29867, saving model to /content/drive/MyDrive/AAAAA/regression+dense+best_model1.h5\n",
            "Epoch 8/100\n",
            "19/19 [==============================] - 12s 639ms/step - loss: 0.4098 - mae: 0.4989 - val_loss: 0.3511 - val_mae: 0.4697\n",
            "\n",
            "Epoch 00008: val_loss did not improve from 0.29867\n",
            "Epoch 9/100\n",
            "19/19 [==============================] - 12s 638ms/step - loss: 0.4091 - mae: 0.5029 - val_loss: 0.3543 - val_mae: 0.4720\n",
            "\n",
            "Epoch 00009: val_loss did not improve from 0.29867\n",
            "Epoch 10/100\n",
            "19/19 [==============================] - 12s 638ms/step - loss: 0.3940 - mae: 0.4948 - val_loss: 0.2786 - val_mae: 0.4156\n",
            "\n",
            "Epoch 00010: val_loss improved from 0.29867 to 0.27865, saving model to /content/drive/MyDrive/AAAAA/regression+dense+best_model1.h5\n",
            "Epoch 11/100\n",
            "19/19 [==============================] - 12s 639ms/step - loss: 0.3688 - mae: 0.4782 - val_loss: 0.2735 - val_mae: 0.4153\n",
            "\n",
            "Epoch 00011: val_loss improved from 0.27865 to 0.27347, saving model to /content/drive/MyDrive/AAAAA/regression+dense+best_model1.h5\n",
            "Epoch 12/100\n",
            "19/19 [==============================] - 12s 637ms/step - loss: 0.3579 - mae: 0.4739 - val_loss: 0.2906 - val_mae: 0.4255\n",
            "\n",
            "Epoch 00012: val_loss did not improve from 0.27347\n",
            "Epoch 13/100\n",
            "19/19 [==============================] - 12s 637ms/step - loss: 0.3494 - mae: 0.4645 - val_loss: 0.2720 - val_mae: 0.4183\n",
            "\n",
            "Epoch 00013: val_loss improved from 0.27347 to 0.27197, saving model to /content/drive/MyDrive/AAAAA/regression+dense+best_model1.h5\n",
            "Epoch 14/100\n",
            "19/19 [==============================] - 12s 634ms/step - loss: 0.3594 - mae: 0.4771 - val_loss: 0.2879 - val_mae: 0.4197\n",
            "\n",
            "Epoch 00014: val_loss did not improve from 0.27197\n",
            "Epoch 15/100\n",
            "19/19 [==============================] - 12s 638ms/step - loss: 0.4024 - mae: 0.5020 - val_loss: 0.2605 - val_mae: 0.4023\n",
            "\n",
            "Epoch 00015: val_loss improved from 0.27197 to 0.26047, saving model to /content/drive/MyDrive/AAAAA/regression+dense+best_model1.h5\n",
            "Epoch 16/100\n",
            "19/19 [==============================] - 12s 637ms/step - loss: 0.3661 - mae: 0.4754 - val_loss: 0.2651 - val_mae: 0.4050\n",
            "\n",
            "Epoch 00016: val_loss did not improve from 0.26047\n",
            "Epoch 17/100\n",
            "19/19 [==============================] - 12s 640ms/step - loss: 0.3185 - mae: 0.4493 - val_loss: 0.2999 - val_mae: 0.4291\n",
            "\n",
            "Epoch 00017: val_loss did not improve from 0.26047\n",
            "Epoch 18/100\n",
            "19/19 [==============================] - 12s 638ms/step - loss: 0.3076 - mae: 0.4417 - val_loss: 0.2607 - val_mae: 0.4042\n",
            "\n",
            "Epoch 00018: val_loss did not improve from 0.26047\n",
            "Epoch 19/100\n",
            "19/19 [==============================] - 12s 638ms/step - loss: 0.3191 - mae: 0.4492 - val_loss: 0.2570 - val_mae: 0.3945\n",
            "\n",
            "Epoch 00019: val_loss improved from 0.26047 to 0.25705, saving model to /content/drive/MyDrive/AAAAA/regression+dense+best_model1.h5\n",
            "Epoch 20/100\n",
            "19/19 [==============================] - 12s 636ms/step - loss: 0.3205 - mae: 0.4569 - val_loss: 0.2725 - val_mae: 0.4089\n",
            "\n",
            "Epoch 00020: val_loss did not improve from 0.25705\n",
            "Epoch 21/100\n",
            "19/19 [==============================] - 12s 637ms/step - loss: 0.2783 - mae: 0.4178 - val_loss: 0.2675 - val_mae: 0.4041\n",
            "\n",
            "Epoch 00021: val_loss did not improve from 0.25705\n",
            "Epoch 22/100\n",
            "19/19 [==============================] - 12s 638ms/step - loss: 0.2792 - mae: 0.4165 - val_loss: 0.2661 - val_mae: 0.4016\n",
            "\n",
            "Epoch 00022: val_loss did not improve from 0.25705\n",
            "Epoch 23/100\n",
            "19/19 [==============================] - 12s 638ms/step - loss: 0.2500 - mae: 0.3911 - val_loss: 0.2638 - val_mae: 0.4013\n",
            "\n",
            "Epoch 00023: val_loss did not improve from 0.25705\n",
            "Epoch 24/100\n",
            "19/19 [==============================] - 12s 639ms/step - loss: 0.2374 - mae: 0.3885 - val_loss: 0.2778 - val_mae: 0.4086\n",
            "\n",
            "Epoch 00024: val_loss did not improve from 0.25705\n",
            "Epoch 00024: early stopping\n",
            "Kappa Score: 0.6871307560451997\n",
            "\n",
            "--------Fold 2--------\n",
            "\n",
            "Model: \"sequential_1\"\n",
            "_________________________________________________________________\n",
            "Layer (type)                 Output Shape              Param #   \n",
            "=================================================================\n",
            "embedding_1 (Embedding)      (None, 1065, 100)         1702400   \n",
            "_________________________________________________________________\n",
            "bidirectional_1 (Bidirection (None, 1065, 512)         731136    \n",
            "_________________________________________________________________\n",
            "global_average_pooling1d_1 ( (None, 512)               0         \n",
            "_________________________________________________________________\n",
            "dense_3 (Dense)              (None, 100)               51300     \n",
            "_________________________________________________________________\n",
            "dropout_1 (Dropout)          (None, 100)               0         \n",
            "_________________________________________________________________\n",
            "dense_4 (Dense)              (None, 10)                1010      \n",
            "_________________________________________________________________\n",
            "dense_5 (Dense)              (None, 1)                 11        \n",
            "=================================================================\n",
            "Total params: 2,485,857\n",
            "Trainable params: 2,485,857\n",
            "Non-trainable params: 0\n",
            "_________________________________________________________________\n",
            "None\n",
            "(1200, 1065) (1200,) (600, 1065) (600,)\n",
            "Epoch 1/100\n",
            "19/19 [==============================] - 17s 684ms/step - loss: 5.0364 - mae: 1.8796 - val_loss: 2.0876 - val_mae: 1.3124\n",
            "\n",
            "Epoch 00001: val_loss improved from inf to 2.08761, saving model to /content/drive/MyDrive/AAAAA/regression+dense+best_model2.h5\n",
            "Epoch 2/100\n",
            "19/19 [==============================] - 12s 636ms/step - loss: 1.0138 - mae: 0.8003 - val_loss: 0.5458 - val_mae: 0.5868\n",
            "\n",
            "Epoch 00002: val_loss improved from 2.08761 to 0.54578, saving model to /content/drive/MyDrive/AAAAA/regression+dense+best_model2.h5\n",
            "Epoch 3/100\n",
            "19/19 [==============================] - 12s 636ms/step - loss: 0.5633 - mae: 0.5878 - val_loss: 0.4360 - val_mae: 0.5153\n",
            "\n",
            "Epoch 00003: val_loss improved from 0.54578 to 0.43598, saving model to /content/drive/MyDrive/AAAAA/regression+dense+best_model2.h5\n",
            "Epoch 4/100\n",
            "19/19 [==============================] - 12s 637ms/step - loss: 0.4734 - mae: 0.5321 - val_loss: 0.3697 - val_mae: 0.4789\n",
            "\n",
            "Epoch 00004: val_loss improved from 0.43598 to 0.36974, saving model to /content/drive/MyDrive/AAAAA/regression+dense+best_model2.h5\n",
            "Epoch 5/100\n",
            "19/19 [==============================] - 12s 637ms/step - loss: 0.4469 - mae: 0.5289 - val_loss: 0.3710 - val_mae: 0.4799\n",
            "\n",
            "Epoch 00005: val_loss did not improve from 0.36974\n",
            "Epoch 6/100\n",
            "19/19 [==============================] - 12s 638ms/step - loss: 0.4287 - mae: 0.5165 - val_loss: 0.3713 - val_mae: 0.4813\n",
            "\n",
            "Epoch 00006: val_loss did not improve from 0.36974\n",
            "Epoch 7/100\n",
            "19/19 [==============================] - 12s 638ms/step - loss: 0.4178 - mae: 0.5092 - val_loss: 0.3598 - val_mae: 0.4748\n",
            "\n",
            "Epoch 00007: val_loss improved from 0.36974 to 0.35977, saving model to /content/drive/MyDrive/AAAAA/regression+dense+best_model2.h5\n",
            "Epoch 8/100\n",
            "19/19 [==============================] - 12s 637ms/step - loss: 0.4226 - mae: 0.5067 - val_loss: 0.3684 - val_mae: 0.4787\n",
            "\n",
            "Epoch 00008: val_loss did not improve from 0.35977\n",
            "Epoch 9/100\n",
            "19/19 [==============================] - 12s 636ms/step - loss: 0.4079 - mae: 0.5019 - val_loss: 0.3470 - val_mae: 0.4674\n",
            "\n",
            "Epoch 00009: val_loss improved from 0.35977 to 0.34697, saving model to /content/drive/MyDrive/AAAAA/regression+dense+best_model2.h5\n",
            "Epoch 10/100\n",
            "19/19 [==============================] - 12s 637ms/step - loss: 0.4033 - mae: 0.4974 - val_loss: 0.3317 - val_mae: 0.4642\n",
            "\n",
            "Epoch 00010: val_loss improved from 0.34697 to 0.33172, saving model to /content/drive/MyDrive/AAAAA/regression+dense+best_model2.h5\n",
            "Epoch 11/100\n",
            "19/19 [==============================] - 12s 636ms/step - loss: 0.4142 - mae: 0.5054 - val_loss: 0.3214 - val_mae: 0.4559\n",
            "\n",
            "Epoch 00011: val_loss improved from 0.33172 to 0.32137, saving model to /content/drive/MyDrive/AAAAA/regression+dense+best_model2.h5\n",
            "Epoch 12/100\n",
            "19/19 [==============================] - 12s 638ms/step - loss: 0.4051 - mae: 0.5064 - val_loss: 0.3629 - val_mae: 0.4820\n",
            "\n",
            "Epoch 00012: val_loss did not improve from 0.32137\n",
            "Epoch 13/100\n",
            "19/19 [==============================] - 12s 638ms/step - loss: 0.3855 - mae: 0.4881 - val_loss: 0.3223 - val_mae: 0.4595\n",
            "\n",
            "Epoch 00013: val_loss did not improve from 0.32137\n",
            "Epoch 14/100\n",
            "19/19 [==============================] - 12s 638ms/step - loss: 0.3872 - mae: 0.4919 - val_loss: 0.3252 - val_mae: 0.4513\n",
            "\n",
            "Epoch 00014: val_loss did not improve from 0.32137\n",
            "Epoch 15/100\n",
            "19/19 [==============================] - 12s 638ms/step - loss: 0.3827 - mae: 0.4830 - val_loss: 0.3684 - val_mae: 0.4799\n",
            "\n",
            "Epoch 00015: val_loss did not improve from 0.32137\n",
            "Epoch 16/100\n",
            "19/19 [==============================] - 12s 640ms/step - loss: 0.3506 - mae: 0.4684 - val_loss: 0.3100 - val_mae: 0.4451\n",
            "\n",
            "Epoch 00016: val_loss improved from 0.32137 to 0.30998, saving model to /content/drive/MyDrive/AAAAA/regression+dense+best_model2.h5\n",
            "Epoch 17/100\n",
            "19/19 [==============================] - 12s 639ms/step - loss: 0.3366 - mae: 0.4569 - val_loss: 0.3171 - val_mae: 0.4454\n",
            "\n",
            "Epoch 00017: val_loss did not improve from 0.30998\n",
            "Epoch 18/100\n",
            "19/19 [==============================] - 12s 637ms/step - loss: 0.3491 - mae: 0.4653 - val_loss: 0.2904 - val_mae: 0.4285\n",
            "\n",
            "Epoch 00018: val_loss improved from 0.30998 to 0.29037, saving model to /content/drive/MyDrive/AAAAA/regression+dense+best_model2.h5\n",
            "Epoch 19/100\n",
            "19/19 [==============================] - 12s 638ms/step - loss: 0.3317 - mae: 0.4558 - val_loss: 0.2906 - val_mae: 0.4303\n",
            "\n",
            "Epoch 00019: val_loss did not improve from 0.29037\n",
            "Epoch 20/100\n",
            "19/19 [==============================] - 12s 640ms/step - loss: 0.3271 - mae: 0.4488 - val_loss: 0.3334 - val_mae: 0.4610\n",
            "\n",
            "Epoch 00020: val_loss did not improve from 0.29037\n",
            "Epoch 21/100\n",
            "19/19 [==============================] - 12s 639ms/step - loss: 0.3118 - mae: 0.4373 - val_loss: 0.3670 - val_mae: 0.4820\n",
            "\n",
            "Epoch 00021: val_loss did not improve from 0.29037\n",
            "Epoch 22/100\n",
            "19/19 [==============================] - 12s 639ms/step - loss: 0.3170 - mae: 0.4454 - val_loss: 0.2905 - val_mae: 0.4257\n",
            "\n",
            "Epoch 00022: val_loss did not improve from 0.29037\n",
            "Epoch 23/100\n",
            "19/19 [==============================] - 12s 641ms/step - loss: 0.2746 - mae: 0.4140 - val_loss: 0.2933 - val_mae: 0.4308\n",
            "\n",
            "Epoch 00023: val_loss did not improve from 0.29037\n",
            "Epoch 00023: early stopping\n",
            "Kappa Score: 0.6870529327610873\n",
            "\n",
            "--------Fold 3--------\n",
            "\n",
            "Model: \"sequential_2\"\n",
            "_________________________________________________________________\n",
            "Layer (type)                 Output Shape              Param #   \n",
            "=================================================================\n",
            "embedding_2 (Embedding)      (None, 1065, 100)         1702400   \n",
            "_________________________________________________________________\n",
            "bidirectional_2 (Bidirection (None, 1065, 512)         731136    \n",
            "_________________________________________________________________\n",
            "global_average_pooling1d_2 ( (None, 512)               0         \n",
            "_________________________________________________________________\n",
            "dense_6 (Dense)              (None, 100)               51300     \n",
            "_________________________________________________________________\n",
            "dropout_2 (Dropout)          (None, 100)               0         \n",
            "_________________________________________________________________\n",
            "dense_7 (Dense)              (None, 10)                1010      \n",
            "_________________________________________________________________\n",
            "dense_8 (Dense)              (None, 1)                 11        \n",
            "=================================================================\n",
            "Total params: 2,485,857\n",
            "Trainable params: 2,485,857\n",
            "Non-trainable params: 0\n",
            "_________________________________________________________________\n",
            "None\n",
            "(1200, 1065) (1200,) (600, 1065) (600,)\n",
            "Epoch 1/100\n",
            "19/19 [==============================] - 17s 686ms/step - loss: 4.2095 - mae: 1.6081 - val_loss: 0.3781 - val_mae: 0.4772\n",
            "\n",
            "Epoch 00001: val_loss improved from inf to 0.37814, saving model to /content/drive/MyDrive/AAAAA/regression+dense+best_model3.h5\n",
            "Epoch 2/100\n",
            "19/19 [==============================] - 12s 639ms/step - loss: 0.5160 - mae: 0.5593 - val_loss: 0.4051 - val_mae: 0.4966\n",
            "\n",
            "Epoch 00002: val_loss did not improve from 0.37814\n",
            "Epoch 3/100\n",
            "19/19 [==============================] - 12s 640ms/step - loss: 0.5194 - mae: 0.5595 - val_loss: 0.4028 - val_mae: 0.4957\n",
            "\n",
            "Epoch 00003: val_loss did not improve from 0.37814\n",
            "Epoch 4/100\n",
            "19/19 [==============================] - 12s 641ms/step - loss: 0.4814 - mae: 0.5524 - val_loss: 0.3715 - val_mae: 0.4737\n",
            "\n",
            "Epoch 00004: val_loss improved from 0.37814 to 0.37147, saving model to /content/drive/MyDrive/AAAAA/regression+dense+best_model3.h5\n",
            "Epoch 5/100\n",
            "19/19 [==============================] - 12s 640ms/step - loss: 0.5028 - mae: 0.5568 - val_loss: 0.3662 - val_mae: 0.4712\n",
            "\n",
            "Epoch 00005: val_loss improved from 0.37147 to 0.36618, saving model to /content/drive/MyDrive/AAAAA/regression+dense+best_model3.h5\n",
            "Epoch 6/100\n",
            "19/19 [==============================] - 12s 639ms/step - loss: 0.4398 - mae: 0.5232 - val_loss: 0.4040 - val_mae: 0.4993\n",
            "\n",
            "Epoch 00006: val_loss did not improve from 0.36618\n",
            "Epoch 7/100\n",
            "19/19 [==============================] - 12s 642ms/step - loss: 0.4377 - mae: 0.5203 - val_loss: 0.3449 - val_mae: 0.4561\n",
            "\n",
            "Epoch 00007: val_loss improved from 0.36618 to 0.34494, saving model to /content/drive/MyDrive/AAAAA/regression+dense+best_model3.h5\n",
            "Epoch 8/100\n",
            "19/19 [==============================] - 12s 640ms/step - loss: 0.4352 - mae: 0.5179 - val_loss: 0.3379 - val_mae: 0.4526\n",
            "\n",
            "Epoch 00008: val_loss improved from 0.34494 to 0.33788, saving model to /content/drive/MyDrive/AAAAA/regression+dense+best_model3.h5\n",
            "Epoch 9/100\n",
            "19/19 [==============================] - 12s 638ms/step - loss: 0.4357 - mae: 0.5246 - val_loss: 0.3702 - val_mae: 0.4786\n",
            "\n",
            "Epoch 00009: val_loss did not improve from 0.33788\n",
            "Epoch 10/100\n",
            "19/19 [==============================] - 12s 639ms/step - loss: 0.3915 - mae: 0.4909 - val_loss: 0.3539 - val_mae: 0.4678\n",
            "\n",
            "Epoch 00010: val_loss did not improve from 0.33788\n",
            "Epoch 11/100\n",
            "19/19 [==============================] - 12s 640ms/step - loss: 0.4168 - mae: 0.5079 - val_loss: 0.3297 - val_mae: 0.4503\n",
            "\n",
            "Epoch 00011: val_loss improved from 0.33788 to 0.32973, saving model to /content/drive/MyDrive/AAAAA/regression+dense+best_model3.h5\n",
            "Epoch 12/100\n",
            "19/19 [==============================] - 12s 639ms/step - loss: 0.3859 - mae: 0.4940 - val_loss: 0.3903 - val_mae: 0.4958\n",
            "\n",
            "Epoch 00012: val_loss did not improve from 0.32973\n",
            "Epoch 13/100\n",
            "19/19 [==============================] - 12s 640ms/step - loss: 0.3909 - mae: 0.4948 - val_loss: 0.3176 - val_mae: 0.4428\n",
            "\n",
            "Epoch 00013: val_loss improved from 0.32973 to 0.31756, saving model to /content/drive/MyDrive/AAAAA/regression+dense+best_model3.h5\n",
            "Epoch 14/100\n",
            "19/19 [==============================] - 12s 642ms/step - loss: 0.3983 - mae: 0.4983 - val_loss: 0.3181 - val_mae: 0.4450\n",
            "\n",
            "Epoch 00014: val_loss did not improve from 0.31756\n",
            "Epoch 15/100\n",
            "19/19 [==============================] - 12s 641ms/step - loss: 0.3891 - mae: 0.4939 - val_loss: 0.4124 - val_mae: 0.5115\n",
            "\n",
            "Epoch 00015: val_loss did not improve from 0.31756\n",
            "Epoch 16/100\n",
            "19/19 [==============================] - 12s 638ms/step - loss: 0.3694 - mae: 0.4781 - val_loss: 0.3843 - val_mae: 0.4943\n",
            "\n",
            "Epoch 00016: val_loss did not improve from 0.31756\n",
            "Epoch 17/100\n",
            "19/19 [==============================] - 12s 640ms/step - loss: 0.3564 - mae: 0.4719 - val_loss: 0.3192 - val_mae: 0.4442\n",
            "\n",
            "Epoch 00017: val_loss did not improve from 0.31756\n",
            "Epoch 18/100\n",
            "19/19 [==============================] - 12s 639ms/step - loss: 0.3017 - mae: 0.4402 - val_loss: 0.3103 - val_mae: 0.4404\n",
            "\n",
            "Epoch 00018: val_loss improved from 0.31756 to 0.31030, saving model to /content/drive/MyDrive/AAAAA/regression+dense+best_model3.h5\n",
            "Epoch 19/100\n",
            "19/19 [==============================] - 12s 640ms/step - loss: 0.2766 - mae: 0.4175 - val_loss: 0.3213 - val_mae: 0.4450\n",
            "\n",
            "Epoch 00019: val_loss did not improve from 0.31030\n",
            "Epoch 20/100\n",
            "19/19 [==============================] - 12s 638ms/step - loss: 0.2532 - mae: 0.3888 - val_loss: 0.3245 - val_mae: 0.4448\n",
            "\n",
            "Epoch 00020: val_loss did not improve from 0.31030\n",
            "Epoch 21/100\n",
            "19/19 [==============================] - 12s 642ms/step - loss: 0.2140 - mae: 0.3631 - val_loss: 0.3595 - val_mae: 0.4667\n",
            "\n",
            "Epoch 00021: val_loss did not improve from 0.31030\n",
            "Epoch 22/100\n",
            "19/19 [==============================] - 12s 642ms/step - loss: 0.2294 - mae: 0.3800 - val_loss: 0.3876 - val_mae: 0.4883\n",
            "\n",
            "Epoch 00022: val_loss did not improve from 0.31030\n",
            "Epoch 23/100\n",
            "19/19 [==============================] - 12s 639ms/step - loss: 0.1788 - mae: 0.3282 - val_loss: 0.3332 - val_mae: 0.4491\n",
            "\n",
            "Epoch 00023: val_loss did not improve from 0.31030\n",
            "Epoch 00023: early stopping\n",
            "Kappa Score: 0.6588857883291563\n"
          ]
        }
      ]
    },
    {
      "cell_type": "code",
      "metadata": {
        "id": "_uaVOvjLfzDB",
        "colab": {
          "base_uri": "https://localhost:8080/"
        },
        "outputId": "04769f85-d9b4-48e7-a14d-16b6fa9fa737"
      },
      "source": [
        "kappa"
      ],
      "execution_count": 44,
      "outputs": [
        {
          "output_type": "execute_result",
          "data": {
            "text/plain": [
              "[0.6871307560451997, 0.6870529327610873, 0.6588857883291563]"
            ]
          },
          "metadata": {},
          "execution_count": 44
        }
      ]
    },
    {
      "cell_type": "code",
      "metadata": {
        "id": "uEBwls-YfzDC",
        "colab": {
          "base_uri": "https://localhost:8080/"
        },
        "outputId": "32e07653-b69b-4b4c-973b-a5ac2e078587"
      },
      "source": [
        "np.mean(kappa).round(3)"
      ],
      "execution_count": 45,
      "outputs": [
        {
          "output_type": "execute_result",
          "data": {
            "text/plain": [
              "0.678"
            ]
          },
          "metadata": {},
          "execution_count": 45
        }
      ]
    },
    {
      "cell_type": "code",
      "metadata": {
        "id": "f72qoGK90Bjh"
      },
      "source": [
        "#loading best model\n",
        "from keras.models import load_model\n",
        "model1= load_model('/content/drive/MyDrive/AAAAA/regression+dense+best_model1.h5')"
      ],
      "execution_count": 53,
      "outputs": []
    },
    {
      "cell_type": "code",
      "metadata": {
        "id": "PnFBppA90U9Y"
      },
      "source": [
        "R=pd.DataFrame(np.zeros((1)), index=['QWK'], columns=['Model1'])"
      ],
      "execution_count": 54,
      "outputs": []
    },
    {
      "cell_type": "code",
      "metadata": {
        "id": "2NV7smrv0U_-",
        "colab": {
          "base_uri": "https://localhost:8080/",
          "height": 80
        },
        "outputId": "95283e5c-b781-440d-e05f-1a5f971684cd"
      },
      "source": [
        "R"
      ],
      "execution_count": 55,
      "outputs": [
        {
          "output_type": "execute_result",
          "data": {
            "text/html": [
              "<div>\n",
              "<style scoped>\n",
              "    .dataframe tbody tr th:only-of-type {\n",
              "        vertical-align: middle;\n",
              "    }\n",
              "\n",
              "    .dataframe tbody tr th {\n",
              "        vertical-align: top;\n",
              "    }\n",
              "\n",
              "    .dataframe thead th {\n",
              "        text-align: right;\n",
              "    }\n",
              "</style>\n",
              "<table border=\"1\" class=\"dataframe\">\n",
              "  <thead>\n",
              "    <tr style=\"text-align: right;\">\n",
              "      <th></th>\n",
              "      <th>Model1</th>\n",
              "    </tr>\n",
              "  </thead>\n",
              "  <tbody>\n",
              "    <tr>\n",
              "      <th>QWK</th>\n",
              "      <td>0.0</td>\n",
              "    </tr>\n",
              "  </tbody>\n",
              "</table>\n",
              "</div>"
            ],
            "text/plain": [
              "     Model1\n",
              "QWK     0.0"
            ]
          },
          "metadata": {},
          "execution_count": 55
        }
      ]
    },
    {
      "cell_type": "code",
      "metadata": {
        "id": "GirdNGpk4iCc"
      },
      "source": [
        "y_pred1 = model1.predict(padded_docs_test).round()\n",
        "y_pred2 = model2.predict(padded_docs_test).round()\n",
        "y_pred3 = model3.predict(padded_docs_test).round()\n",
        "R['Model1']=cohen_kappa_score(y_test.round().values,y_pred1,weights='quadratic').round(3)\n"
      ],
      "execution_count": 56,
      "outputs": []
    },
    {
      "cell_type": "code",
      "metadata": {
        "id": "FRHDU86G4iHF",
        "colab": {
          "base_uri": "https://localhost:8080/",
          "height": 80
        },
        "outputId": "85090b05-5214-4a9d-ff7c-7622dd8c5d3a"
      },
      "source": [
        "R"
      ],
      "execution_count": 57,
      "outputs": [
        {
          "output_type": "execute_result",
          "data": {
            "text/html": [
              "<div>\n",
              "<style scoped>\n",
              "    .dataframe tbody tr th:only-of-type {\n",
              "        vertical-align: middle;\n",
              "    }\n",
              "\n",
              "    .dataframe tbody tr th {\n",
              "        vertical-align: top;\n",
              "    }\n",
              "\n",
              "    .dataframe thead th {\n",
              "        text-align: right;\n",
              "    }\n",
              "</style>\n",
              "<table border=\"1\" class=\"dataframe\">\n",
              "  <thead>\n",
              "    <tr style=\"text-align: right;\">\n",
              "      <th></th>\n",
              "      <th>Model1</th>\n",
              "    </tr>\n",
              "  </thead>\n",
              "  <tbody>\n",
              "    <tr>\n",
              "      <th>QWK</th>\n",
              "      <td>0.736</td>\n",
              "    </tr>\n",
              "  </tbody>\n",
              "</table>\n",
              "</div>"
            ],
            "text/plain": [
              "     Model1\n",
              "QWK   0.736"
            ]
          },
          "metadata": {},
          "execution_count": 57
        }
      ]
    },
    {
      "cell_type": "code",
      "metadata": {
        "id": "eztxn5Dz0CQL"
      },
      "source": [
        ""
      ],
      "execution_count": null,
      "outputs": []
    },
    {
      "cell_type": "code",
      "metadata": {
        "id": "FXqWPJWKDP6g",
        "colab": {
          "base_uri": "https://localhost:8080/",
          "height": 282
        },
        "outputId": "6b9a8766-9610-46a8-c5b5-2766d033cbc4"
      },
      "source": [
        "import matplotlib.pyplot as plt\n",
        "plt.hist(y_pred2,bins=11, histtype='step')\n",
        "plt.hist(y_test,bins=11, histtype='step')\n",
        "plt.legend(['Predicted Score', 'Target Score'], loc='upper left')"
      ],
      "execution_count": 51,
      "outputs": [
        {
          "output_type": "execute_result",
          "data": {
            "text/plain": [
              "<matplotlib.legend.Legend at 0x7f68d0415950>"
            ]
          },
          "metadata": {},
          "execution_count": 51
        },
        {
          "output_type": "display_data",
          "data": {
            "image/png": "[encoded data removed]",
            "text/plain": [
              "<Figure size 432x288 with 1 Axes>"
            ]
          },
          "metadata": {
            "needs_background": "light"
          }
        }
      ]
    },
    {
      "cell_type": "code",
      "metadata": {
        "id": "CBkDoiMWDP93"
      },
      "source": [
        "https://www.tensorflow.org/text/tutorials/text_classification_rnn#stack_two_or_more_lstm_layers"
      ],
      "execution_count": null,
      "outputs": []
    }
  ]
}
